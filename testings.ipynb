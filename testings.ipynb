{
 "cells": [
  {
   "cell_type": "code",
   "execution_count": 15,
   "metadata": {},
   "outputs": [],
   "source": [
    "import pandas as pd\n",
    "import numpy as np\n",
    "import spacy\n",
    "from tqdm import tqdm\n",
    "nlp = spacy.load('nl_core_news_sm')\n",
    "import warnings\n",
    "warnings.filterwarnings('ignore')"
   ]
  },
  {
   "cell_type": "code",
   "execution_count": 17,
   "metadata": {},
   "outputs": [],
   "source": [
    "tfidf_df = pd.read_csv(\"tfidf_df.csv\")"
   ]
  },
  {
   "cell_type": "code",
   "execution_count": 18,
   "metadata": {},
   "outputs": [],
   "source": [
    "tfidf_df.sort_values(by='similarity', ascending=False, inplace=True)\n",
    "tfidf_df.reset_index(inplace=True, drop=True)"
   ]
  },
  {
   "cell_type": "code",
   "execution_count": 19,
   "metadata": {},
   "outputs": [],
   "source": [
    "tfidf_m = pd.DataFrame(np.sort(tfidf_df.iloc[:, :2])).duplicated()"
   ]
  },
  {
   "cell_type": "code",
   "execution_count": 20,
   "metadata": {},
   "outputs": [],
   "source": [
    "tfidf_df = tfidf_df[~tfidf_m]\n",
    "tfidf_df.reset_index(inplace=True, drop=True)"
   ]
  },
  {
   "cell_type": "code",
   "execution_count": 83,
   "metadata": {},
   "outputs": [],
   "source": [
    "# tfidf_df.head()"
   ]
  },
  {
   "cell_type": "code",
   "execution_count": 23,
   "metadata": {},
   "outputs": [
    {
     "data": {
      "text/plain": [
       "(65118, 3)"
      ]
     },
     "execution_count": 23,
     "metadata": {},
     "output_type": "execute_result"
    }
   ],
   "source": [
    "tfidf_df.reset_index(inplace=True, drop=True)\n",
    "tfidf_df.shape"
   ]
  },
  {
   "cell_type": "code",
   "execution_count": 81,
   "metadata": {},
   "outputs": [
    {
     "data": {
      "text/plain": [
       "count    59710.000000\n",
       "mean         0.908759\n",
       "std          0.103992\n",
       "min          0.600081\n",
       "25%          0.860320\n",
       "50%          0.945232\n",
       "75%          1.000000\n",
       "max          1.000000\n",
       "Name: similarity, dtype: float64"
      ]
     },
     "execution_count": 81,
     "metadata": {},
     "output_type": "execute_result"
    }
   ],
   "source": [
    "tfidf_df['similarity'].describe()"
   ]
  },
  {
   "cell_type": "code",
   "execution_count": 62,
   "metadata": {},
   "outputs": [],
   "source": [
    "for index in range(len(tfidf_df)):\n",
    "    index, r_ = index, tfidf_df.iloc[[index]].values.flatten().tolist()\n",
    "    df_ = tfidf_df.loc[(tfidf_df.daltix_id_1 == r_[1]) | (tfidf_df.daltix_id_2 == r_[1])]\n",
    "    if len(df_) > 3:\n",
    "        break"
   ]
  },
  {
   "cell_type": "code",
   "execution_count": 63,
   "metadata": {},
   "outputs": [
    {
     "data": {
      "text/plain": [
       "(196,\n",
       " ['191999e11f63f7ff7af62a78520c23962533d0bb91e16a0a53fe16b5ecb5e87e',\n",
       "  'fd6f1ba947ed971f72c7dbbf90a09a367b710d086257ce234f4e20073d639f16',\n",
       "  1.0000000000000009])"
      ]
     },
     "execution_count": 63,
     "metadata": {},
     "output_type": "execute_result"
    }
   ],
   "source": [
    "index, r_"
   ]
  },
  {
   "cell_type": "code",
   "execution_count": 73,
   "metadata": {},
   "outputs": [],
   "source": [
    "# temp_ = tfidf_df[tfidf_df.apply(lambda r: r.str.match(r_[0], case=False).any(), axis=1)] \n",
    "# temp_ = temp_[temp_.index != index] \n",
    "# temp_"
   ]
  },
  {
   "cell_type": "code",
   "execution_count": 65,
   "metadata": {},
   "outputs": [
    {
     "data": {
      "text/html": [
       "<div>\n",
       "<style scoped>\n",
       "    .dataframe tbody tr th:only-of-type {\n",
       "        vertical-align: middle;\n",
       "    }\n",
       "\n",
       "    .dataframe tbody tr th {\n",
       "        vertical-align: top;\n",
       "    }\n",
       "\n",
       "    .dataframe thead th {\n",
       "        text-align: right;\n",
       "    }\n",
       "</style>\n",
       "<table border=\"1\" class=\"dataframe\">\n",
       "  <thead>\n",
       "    <tr style=\"text-align: right;\">\n",
       "      <th></th>\n",
       "      <th>daltix_id_1</th>\n",
       "      <th>daltix_id_2</th>\n",
       "      <th>similarity</th>\n",
       "    </tr>\n",
       "  </thead>\n",
       "  <tbody>\n",
       "    <tr>\n",
       "      <th>241</th>\n",
       "      <td>1695e7b780a833e56a4a0fb1ed9683ae1e674fd295a3a3...</td>\n",
       "      <td>fd6f1ba947ed971f72c7dbbf90a09a367b710d086257ce...</td>\n",
       "      <td>1.000000</td>\n",
       "    </tr>\n",
       "    <tr>\n",
       "      <th>251</th>\n",
       "      <td>1c175ea287a8a53b444ecb6902b98fd40efcf8a051cfe5...</td>\n",
       "      <td>fd6f1ba947ed971f72c7dbbf90a09a367b710d086257ce...</td>\n",
       "      <td>1.000000</td>\n",
       "    </tr>\n",
       "    <tr>\n",
       "      <th>15069</th>\n",
       "      <td>465ff30ea53e62080b85ffd8e2a2ee312ee4ed34184274...</td>\n",
       "      <td>fd6f1ba947ed971f72c7dbbf90a09a367b710d086257ce...</td>\n",
       "      <td>0.998752</td>\n",
       "    </tr>\n",
       "    <tr>\n",
       "      <th>15232</th>\n",
       "      <td>66bea80a97be93291313c3db78e892e1f54c2a4d347eee...</td>\n",
       "      <td>fd6f1ba947ed971f72c7dbbf90a09a367b710d086257ce...</td>\n",
       "      <td>0.997883</td>\n",
       "    </tr>\n",
       "    <tr>\n",
       "      <th>15253</th>\n",
       "      <td>63800632d2c4153eb40f4ff31bf87d8b3706cdd2484001...</td>\n",
       "      <td>fd6f1ba947ed971f72c7dbbf90a09a367b710d086257ce...</td>\n",
       "      <td>0.997795</td>\n",
       "    </tr>\n",
       "  </tbody>\n",
       "</table>\n",
       "</div>"
      ],
      "text/plain": [
       "                                             daltix_id_1  \\\n",
       "241    1695e7b780a833e56a4a0fb1ed9683ae1e674fd295a3a3...   \n",
       "251    1c175ea287a8a53b444ecb6902b98fd40efcf8a051cfe5...   \n",
       "15069  465ff30ea53e62080b85ffd8e2a2ee312ee4ed34184274...   \n",
       "15232  66bea80a97be93291313c3db78e892e1f54c2a4d347eee...   \n",
       "15253  63800632d2c4153eb40f4ff31bf87d8b3706cdd2484001...   \n",
       "\n",
       "                                             daltix_id_2  similarity  \n",
       "241    fd6f1ba947ed971f72c7dbbf90a09a367b710d086257ce...    1.000000  \n",
       "251    fd6f1ba947ed971f72c7dbbf90a09a367b710d086257ce...    1.000000  \n",
       "15069  fd6f1ba947ed971f72c7dbbf90a09a367b710d086257ce...    0.998752  \n",
       "15232  fd6f1ba947ed971f72c7dbbf90a09a367b710d086257ce...    0.997883  \n",
       "15253  fd6f1ba947ed971f72c7dbbf90a09a367b710d086257ce...    0.997795  "
      ]
     },
     "execution_count": 65,
     "metadata": {},
     "output_type": "execute_result"
    }
   ],
   "source": [
    "temp_ = tfidf_df[tfidf_df.apply(lambda r: r.str.match(r_[1], case=False).any(), axis=1)] \n",
    "temp_ = temp_[temp_.index != index] \n",
    "temp_"
   ]
  },
  {
   "cell_type": "code",
   "execution_count": 77,
   "metadata": {},
   "outputs": [
    {
     "name": "stdout",
     "output_type": "stream",
     "text": [
      "191999e11f63f7ff7af62a78520c23962533d0bb91e16a0a53fe16b5ecb5e87e 1.0000000000000009 1.0\n",
      "buis biedt vele toepassingsmogelijkheden bouwen opmaken renoveren versieren element creatief design concepten gebruikt worden gebruikt opbouw poortjes hekken bovendien zowel binnen buitenshuis gebruikt  gah alberts ronde buis aluminium grijs 0,6 cm aantal stuks afwerking geanodiseerd breedte mm dikte mm gebruik meerdere gebruiken kleur grijs lengte 100 cm materiaal aluminium type buis vorm ronde buis zelfklevend span class mxd icon mxd icon small mxd icon reverse mxd icon only mxd icon cancel mxd icon colored data reactid 22nee span\n",
      "\n",
      "fd6f1ba947ed971f72c7dbbf90a09a367b710d086257ce234f4e20073d639f16 1.0000000000000009 1.0\n",
      "buis biedt vele toepassingsmogelijkheden bouwen opmaken renoveren versieren element creatief design concepten gebruikt worden gebruikt opbouw poortjes hekken bovendien zowel binnen buitenshuis gebruikt  gah alberts ronde buis aluminium grijs 0,6 cm aantal stuks afwerking geanodiseerd breedte mm dikte mm gebruik meerdere gebruiken kleur grijs lengte 100 cm materiaal aluminium type buis vorm ronde buis zelfklevend span class mxd icon mxd icon small mxd icon reverse mxd icon only mxd icon cancel mxd icon colored data reactid 22nee span\n",
      "\n",
      "1695e7b780a833e56a4a0fb1ed9683ae1e674fd295a3a3889f5c25086061e7f2 1.0000000000000009 1.0 0.9995488960699467\n",
      "buis biedt vele toepassingsmogelijkheden bouwen opmaken renoveren versieren element creatief design concepten gebruikt worden gebruikt opbouw poortjes hekken bovendien zowel binnen buitenshuis gebruikt  gah alberts ronde buis aluminium grijs 0,8 cm aantal stuks afwerking geanodiseerd breedte mm dikte mm gebruik meerdere gebruiken kleur grijs lengte 100 cm materiaal aluminium type buis vorm ronde buis zelfklevend span class mxd icon mxd icon small mxd icon reverse mxd icon only mxd icon cancel mxd icon colored data reactid 22nee span\n",
      "\n",
      "1c175ea287a8a53b444ecb6902b98fd40efcf8a051cfe5bbb7f9361d3f1fe457 1.0000000000000009 1.0 0.9995488960699467\n",
      "buis biedt vele toepassingsmogelijkheden bouwen opmaken renoveren versieren element creatief design concepten gebruikt worden gebruikt opbouw poortjes hekken bovendien zowel binnen buitenshuis gebruikt  gah alberts ronde buis aluminium grijs 0,8 cm aantal stuks afwerking geanodiseerd breedte mm dikte mm gebruik meerdere gebruiken kleur grijs lengte 100 cm materiaal aluminium type buis vorm ronde buis zelfklevend span class mxd icon mxd icon small mxd icon reverse mxd icon only mxd icon cancel mxd icon colored data reactid 22nee span\n",
      "\n",
      "465ff30ea53e62080b85ffd8e2a2ee312ee4ed34184274093b4a5e1245547254 0.9987520565715672 1.0 0.9986813607552628\n",
      "buis biedt vele toepassingsmogelijkheden bouwen opmaken renoveren versieren element creatief design concepten gebruikt worden gebruikt opbouw poortjes hekken bovendien zowel binnen buitenshuis gebruikt  gah alberts ronde buis aluminium grijs cm aantal stuks afwerking geanodiseerd breedte 10 mm dikte mm gebruik meerdere gebruiken kleur grijs lengte 100 cm materiaal aluminium type buis vorm ronde buis zelfklevend span class mxd icon mxd icon small mxd icon reverse mxd icon only mxd icon cancel mxd icon colored data reactid 22nee span\n",
      "\n",
      "66bea80a97be93291313c3db78e892e1f54c2a4d347eeeced15076bb9b9f4b12 0.9978828878552991 1.0 0.9962444522215682\n",
      "buis biedt vele toepassingsmogelijkheden bouwen opmaken renoveren versieren element creatief design concepten gebruikt worden gebruikt opbouw poortjes hekken bovendien zowel binnen buitenshuis gebruikt  gah alberts ronde buis aluminium grijs 2,5 cm aantal stuks afwerking geanodiseerd breedte 25 mm dikte 1.5 mm gebruik meerdere gebruiken kleur grijs lengte 100 cm materiaal aluminium type buis vorm ronde buis zelfklevend span class mxd icon mxd icon small mxd icon reverse mxd icon only mxd icon cancel mxd icon colored data reactid 22nee span\n",
      "\n",
      "63800632d2c4153eb40f4ff31bf87d8b3706cdd2484001b7550a3fa42a7ffe53 0.9977948443772782 1.0 0.9978598748775149\n",
      "buis biedt vele toepassingsmogelijkheden bouwen opmaken renoveren versieren element creatief design concepten gebruikt worden gebruikt opbouw poortjes hekken bovendien zowel binnen buitenshuis gebruikt  gah alberts ronde buis aluminium grijs 1,5 cm aantal stuks afwerking geanodiseerd breedte 15 mm dikte mm gebruik meerdere gebruiken kleur grijs lengte 100 cm materiaal aluminium type buis vorm ronde buis zelfklevend span class mxd icon mxd icon small mxd icon reverse mxd icon only mxd icon cancel mxd icon colored data reactid 22nee span\n",
      "\n"
     ]
    }
   ],
   "source": [
    "\n",
    "doc0 = df.loc[df['DALTIX_ID'] == r_[0]]['text'].item()\n",
    "doc1 = df.loc[df['DALTIX_ID'] == r_[1]]['text'].item()\n",
    "doc0_, doc1_ = nlp(doc0), nlp(doc1)\n",
    "\n",
    "print(r_[0], r_[2], doc1_.similarity(doc0_))\n",
    "print(doc0)\n",
    "print()\n",
    "\n",
    "print(r_[1], r_[2], doc0_.similarity(doc1_))\n",
    "print(doc1)\n",
    "print()\n",
    "\n",
    "for index, row in temp_.iterrows():\n",
    "    if row['daltix_id_1'] == r_[1]:\n",
    "        doc2 = df.loc[df['DALTIX_ID'] == row['daltix_id_2']]['text'].item()\n",
    "        sim_0, sim_2  = doc1_.similarity(doc0_), doc1_.similarity(nlp(doc2))\n",
    "        print(row['daltix_id_2'], row['similarity'], sim_0, sim_2)\n",
    "    else:\n",
    "        doc2 = df.loc[df['DALTIX_ID'] == row['daltix_id_1']]['text'].item()\n",
    "        sim_0, sim_2  = doc1_.similarity(doc0_), doc1_.similarity(nlp(doc2))\n",
    "        print(row['daltix_id_1'], row['similarity'], sim_0, sim_2)\n",
    "    print(df.loc[df['DALTIX_ID'] == row['daltix_id_1']]['text'].item())\n",
    "    print()\n"
   ]
  },
  {
   "cell_type": "markdown",
   "metadata": {},
   "source": [
    "From above EDA I have got to know that there aren't only paird similar products. There are grouped similar products. <br>\n",
    "eg: (a, b),(c, b),(b, e) <br>\n",
    "Therefor if a == b & c == b & c == b then a == c & c == b <br>\n",
    "So result should be (a, b),(c, b),(b, e)(c, b)(a, c) <br>"
   ]
  },
  {
   "cell_type": "code",
   "execution_count": null,
   "metadata": {},
   "outputs": [],
   "source": [
    "# this to change submition dataset as explaind above\n",
    "\n",
    "new_entries = []\n",
    "threshold = 0.99\n",
    "for index in tqdm(range(len(tfidf_df))):\n",
    "    index, r_ = index, tfidf_df.iloc[[index]].values.flatten().tolist()\n",
    "    \n",
    "    df_0 = tfidf_df.loc[(tfidf_df.daltix_id_1 == r_[0]) | (tfidf_df.daltix_id_2 == r_[0])]\n",
    "    df_1 = df_0[df_0.similarity > threshold]\n",
    "    s_2 = set(np.concatenate((df_0.daltix_id_1.unique(), df_0.daltix_id_2.unique())).tolist())\n",
    "    new_entries = new_entries + list(itertools.combinations(s_2, 2))\n",
    "    \n",
    "    df_1 = tfidf_df.loc[(tfidf_df.daltix_id_1 == r_[1]) | (tfidf_df.daltix_id_2 == r_[1])]\n",
    "    df_1 = df_1[df_1.similarity > threshold]\n",
    "    s_1 = set(np.concatenate((df_1.daltix_id_1.unique(), df_1.daltix_id_2.unique())).tolist())\n",
    "    new_entries = new_entries + list(itertools.combinations(s_1, 2))\n",
    "#     if len(df_1) > 2:\n",
    "#         break\n",
    "    \n",
    "len(new_entries)\n",
    "new_entries = pd.DataFrame(new_entries, columns=['daltix_id_1', 'daltix_id_2'])\n",
    "new_entries.to_csv(\"sub_new_entries.csv\", index=False)\n",
    "sub_new_entries = pd.read_csv(\"sub_new_entries.csv\")"
   ]
  },
  {
   "cell_type": "code",
   "execution_count": null,
   "metadata": {},
   "outputs": [],
   "source": [
    "df = pd.concat([submission_df,sub_new_entries]).drop_duplicates()\n",
    "df.reset_index(inplace=True, drop=True)\n",
    "df_ = pd.DataFrame(np.sort(df.iloc[::])).duplicated()\n",
    "submission_df = df[~df_]\n",
    "len(submission_df)"
   ]
  },
  {
   "cell_type": "markdown",
   "metadata": {},
   "source": [
    "Above changes to datasets didnt gave better results.."
   ]
  },
  {
   "cell_type": "code",
   "execution_count": null,
   "metadata": {},
   "outputs": [],
   "source": []
  },
  {
   "cell_type": "code",
   "execution_count": null,
   "metadata": {},
   "outputs": [],
   "source": [
    "# this to change validation dataset as same as submition dataset\n",
    "\n",
    "df_val = pd.read_csv(\"data/y_true.csv\")\n",
    "df_val.columns = ['daltix_id_1', 'daltix_id_2']\n",
    "df_val.shape\n",
    "new_entries = []\n",
    "for index in tqdm(range(len(df_val))):\n",
    "    index, r_ = index, df_val.iloc[[index]].values.flatten().tolist()\n",
    "    \n",
    "    df_0 = df_val.loc[(df_val.daltix_id_1 == r_[0]) | (df_val.daltix_id_2 == r_[0])]\n",
    "    s_2 = set(np.concatenate((df_0.daltix_id_1.unique(), df_0.daltix_id_2.unique())).tolist())\n",
    "    new_entries = new_entries + list(itertools.combinations(s_2, 2))\n",
    "    \n",
    "    df_1 = df_val.loc[(df_val.daltix_id_1 == r_[1]) | (df_val.daltix_id_2 == r_[1])]\n",
    "    s_1 = set(np.concatenate((df_1.daltix_id_1.unique(), df_1.daltix_id_2.unique())).tolist())\n",
    "    new_entries = new_entries + list(itertools.combinations(s_1, 2))\n",
    "len(new_entries)\n",
    "new_entries = pd.DataFrame(new_entries, columns=['daltix_id_1', 'daltix_id_2'])\n",
    "new_entries.to_csv(\"val_new_entries.csv\", index=False)\n",
    "val_new_entries = pd.read_csv(\"val_new_entries.csv\")"
   ]
  },
  {
   "cell_type": "code",
   "execution_count": null,
   "metadata": {},
   "outputs": [],
   "source": [
    "df = pd.concat([df_val,val_new_entries]).drop_duplicates()\n",
    "df.reset_index(inplace=True, drop=True)\n",
    "df_ = pd.DataFrame(np.sort(df.iloc[::])).duplicated()\n",
    "df_val = df[~df_]\n",
    "len(df_val)"
   ]
  },
  {
   "cell_type": "code",
   "execution_count": null,
   "metadata": {},
   "outputs": [],
   "source": []
  },
  {
   "cell_type": "markdown",
   "metadata": {},
   "source": [
    "### Dataframe testings"
   ]
  },
  {
   "cell_type": "code",
   "execution_count": null,
   "metadata": {},
   "outputs": [],
   "source": [
    "raw_data = {'first_name': ['Jason', 'Molly', 'Tina', 'Jacobson', 'Miller'], \n",
    "        'last_name': ['Miller', 'Jacobson', 'Ali', 'Molly', 'Jason'], \n",
    "        'age': [1.0, 0.52, 0.36, 1.0, 0.72]}\n",
    "df = pd.DataFrame(raw_data, columns = ['first_name', 'last_name', 'age'])"
   ]
  },
  {
   "cell_type": "code",
   "execution_count": null,
   "metadata": {},
   "outputs": [],
   "source": [
    "df.sort_values(by='age', ascending=False, inplace=True)\n",
    "df.reset_index(inplace=True, drop=True)"
   ]
  },
  {
   "cell_type": "code",
   "execution_count": null,
   "metadata": {},
   "outputs": [],
   "source": [
    "df"
   ]
  },
  {
   "cell_type": "code",
   "execution_count": null,
   "metadata": {},
   "outputs": [],
   "source": [
    "# df_ = df[df.apply(lambda r: r.str.match('Jason', case=False).any(), axis=1)]\n",
    "# df_[df_.index != 2]"
   ]
  },
  {
   "cell_type": "code",
   "execution_count": null,
   "metadata": {},
   "outputs": [],
   "source": [
    "m = pd.DataFrame(np.sort(df.iloc[:, :2])).duplicated()\n",
    "df = df[~m]"
   ]
  },
  {
   "cell_type": "code",
   "execution_count": null,
   "metadata": {},
   "outputs": [],
   "source": [
    "df"
   ]
  },
  {
   "cell_type": "code",
   "execution_count": null,
   "metadata": {},
   "outputs": [],
   "source": [
    "raw_data_ = {'first_name': [ 'Ali'], \n",
    "        'last_name': ['Spa'], \n",
    "        'age': [0.89]}\n",
    "df_ = pd.DataFrame(raw_data_, columns = ['first_name', 'last_name', 'age'])"
   ]
  },
  {
   "cell_type": "code",
   "execution_count": null,
   "metadata": {},
   "outputs": [],
   "source": [
    "df_"
   ]
  },
  {
   "cell_type": "code",
   "execution_count": null,
   "metadata": {},
   "outputs": [],
   "source": [
    "raw_data = {'first_name': ['Jas', 'Mol', 'Tina', 'Jas', 'Miller', 'Mill'], \n",
    "        'last_name': ['Miller', 'Jacob', 'Ali', 'Molly', 'Jas', 'Jas'], \n",
    "        'age': [1.0, 0.52, 0.36, 1.0, 0.72, 0.23]}\n",
    "df = pd.DataFrame(raw_data, columns = ['first_name', 'last_name', 'age'])"
   ]
  },
  {
   "cell_type": "code",
   "execution_count": null,
   "metadata": {},
   "outputs": [],
   "source": [
    "df"
   ]
  },
  {
   "cell_type": "code",
   "execution_count": null,
   "metadata": {},
   "outputs": [],
   "source": [
    "df_ = pd.DataFrame(np.sort(df.iloc[:, :2])).duplicated()\n",
    "df_"
   ]
  },
  {
   "cell_type": "code",
   "execution_count": null,
   "metadata": {},
   "outputs": [],
   "source": [
    "df[~df_]"
   ]
  },
  {
   "cell_type": "code",
   "execution_count": null,
   "metadata": {},
   "outputs": [],
   "source": [
    "df_ = df.loc[(df.last_name == 'Jas') | (df.first_name == 'Jas')]\n",
    "df_"
   ]
  },
  {
   "cell_type": "code",
   "execution_count": null,
   "metadata": {},
   "outputs": [],
   "source": [
    "# df_ = df.loc[(df.last_name == 'Jas') | (df.first_name == 'Jas')].loc[df.age < 0.9]\n",
    "# df_"
   ]
  },
  {
   "cell_type": "code",
   "execution_count": null,
   "metadata": {},
   "outputs": [],
   "source": [
    "pd.merge(df,df_, indicator=True, how='outer').query('_merge==\"left_only\"').drop('_merge', axis=1)"
   ]
  },
  {
   "cell_type": "code",
   "execution_count": null,
   "metadata": {},
   "outputs": [],
   "source": [
    "df1 = pd.DataFrame(data = {'col1' : ['Jason', 'Molly', 'Tina', 'Mill'], 'col2' : ['Miller', 'Jacobson', 'Ali', 'Jas']}) \n",
    "df2 = pd.DataFrame(data = {'col1' : [ 'Molly', 'Tina', 'Miller'], 'col2' : ['Jacobson', 'Apa', 'Jason']})"
   ]
  },
  {
   "cell_type": "code",
   "execution_count": null,
   "metadata": {},
   "outputs": [],
   "source": [
    "df1"
   ]
  },
  {
   "cell_type": "code",
   "execution_count": null,
   "metadata": {},
   "outputs": [],
   "source": [
    "df2"
   ]
  },
  {
   "cell_type": "code",
   "execution_count": null,
   "metadata": {},
   "outputs": [],
   "source": [
    "df = pd.concat([df1,df2]).drop_duplicates()\n",
    "df.reset_index(inplace=True, drop=True)\n",
    "df_ = pd.DataFrame(np.sort(df.iloc[::])).duplicated()\n",
    "df[~df_]"
   ]
  },
  {
   "cell_type": "code",
   "execution_count": null,
   "metadata": {},
   "outputs": [],
   "source": [
    "s=pd.concat([df1,df2])\n",
    "s[s.duplicated()]"
   ]
  },
  {
   "cell_type": "code",
   "execution_count": null,
   "metadata": {},
   "outputs": [],
   "source": [
    "df2 = df2[['col2','col1']]\n",
    "df2.columns = ['col1', 'col2']\n",
    "s=pd.concat([df1,df2])\n",
    "s[s.duplicated()]"
   ]
  },
  {
   "cell_type": "code",
   "execution_count": null,
   "metadata": {},
   "outputs": [],
   "source": []
  }
 ],
 "metadata": {
  "kernelspec": {
   "display_name": "nongpu",
   "language": "python",
   "name": "nongpu"
  },
  "language_info": {
   "codemirror_mode": {
    "name": "ipython",
    "version": 3
   },
   "file_extension": ".py",
   "mimetype": "text/x-python",
   "name": "python",
   "nbconvert_exporter": "python",
   "pygments_lexer": "ipython3",
   "version": "3.6.7"
  }
 },
 "nbformat": 4,
 "nbformat_minor": 2
}
