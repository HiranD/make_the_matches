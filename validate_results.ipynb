{
 "cells": [
  {
   "cell_type": "code",
   "execution_count": 1042,
   "metadata": {},
   "outputs": [],
   "source": [
    "import pandas as pd\n",
    "import numpy as np\n",
    "from tqdm import tqdm\n",
    "import itertools"
   ]
  },
  {
   "cell_type": "code",
   "execution_count": 1043,
   "metadata": {},
   "outputs": [],
   "source": [
    "tfidf_df = pd.read_csv(\"tfidf_df_ngrams.csv\")"
   ]
  },
  {
   "cell_type": "code",
   "execution_count": 1044,
   "metadata": {},
   "outputs": [],
   "source": [
    "tfidf_df.sort_values(by='similarity', ascending=False, inplace=True)"
   ]
  },
  {
   "cell_type": "code",
   "execution_count": 1045,
   "metadata": {},
   "outputs": [],
   "source": [
    "tfidf_df.reset_index(inplace=True, drop=True)"
   ]
  },
  {
   "cell_type": "code",
   "execution_count": 1046,
   "metadata": {},
   "outputs": [],
   "source": [
    "# tfidf_df.tail()"
   ]
  },
  {
   "cell_type": "code",
   "execution_count": 1047,
   "metadata": {},
   "outputs": [
    {
     "data": {
      "text/plain": [
       "(101781, 3)"
      ]
     },
     "execution_count": 1047,
     "metadata": {},
     "output_type": "execute_result"
    }
   ],
   "source": [
    "tfidf_df.shape"
   ]
  },
  {
   "cell_type": "code",
   "execution_count": 1048,
   "metadata": {},
   "outputs": [],
   "source": [
    "tfidf_m = pd.DataFrame(np.sort(tfidf_df.iloc[:, :2])).duplicated()"
   ]
  },
  {
   "cell_type": "code",
   "execution_count": 1049,
   "metadata": {},
   "outputs": [],
   "source": [
    "tfidf_df = tfidf_df[~tfidf_m]"
   ]
  },
  {
   "cell_type": "code",
   "execution_count": 1050,
   "metadata": {},
   "outputs": [],
   "source": [
    "tfidf_df.reset_index(inplace=True, drop=True)"
   ]
  },
  {
   "cell_type": "code",
   "execution_count": 1051,
   "metadata": {},
   "outputs": [
    {
     "data": {
      "text/plain": [
       "(64840, 3)"
      ]
     },
     "execution_count": 1051,
     "metadata": {},
     "output_type": "execute_result"
    }
   ],
   "source": [
    "# tfidf_df.head()\n",
    "tfidf_df.shape"
   ]
  },
  {
   "cell_type": "code",
   "execution_count": 1052,
   "metadata": {},
   "outputs": [],
   "source": [
    "tfidf_df = tfidf_df[tfidf_df.similarity > 0.274]"
   ]
  },
  {
   "cell_type": "code",
   "execution_count": 1053,
   "metadata": {},
   "outputs": [
    {
     "data": {
      "text/plain": [
       "(63221, 3)"
      ]
     },
     "execution_count": 1053,
     "metadata": {},
     "output_type": "execute_result"
    }
   ],
   "source": [
    "tfidf_df.shape"
   ]
  },
  {
   "cell_type": "code",
   "execution_count": 1054,
   "metadata": {},
   "outputs": [
    {
     "data": {
      "text/plain": [
       "count    63221.000000\n",
       "mean         0.819840\n",
       "std          0.187582\n",
       "min          0.274244\n",
       "25%          0.723082\n",
       "50%          0.877739\n",
       "75%          0.989859\n",
       "max          1.000000\n",
       "Name: similarity, dtype: float64"
      ]
     },
     "execution_count": 1054,
     "metadata": {},
     "output_type": "execute_result"
    }
   ],
   "source": [
    "tfidf_df.similarity.describe()"
   ]
  },
  {
   "cell_type": "code",
   "execution_count": 1055,
   "metadata": {},
   "outputs": [],
   "source": [
    "submission_df = tfidf_df[['daltix_id_1', 'daltix_id_2']]"
   ]
  },
  {
   "cell_type": "code",
   "execution_count": 1056,
   "metadata": {},
   "outputs": [],
   "source": [
    "## for testing doc2vec results.. Which is not a good solution..\n",
    "\n",
    "# doc2vec_df = pd.read_csv(\"doc2vec_df.csv\")\n",
    "# doc2vec_df.sort_values(by='similarity', ascending=False, inplace=True)\n",
    "# doc2vec_df.reset_index(inplace=True, drop=True)\n",
    "# doc2vec_m = pd.DataFrame(np.sort(doc2vec_df.iloc[:, :2])).duplicated()\n",
    "# doc2vec_df = doc2vec_df[~doc2vec_m]\n",
    "# doc2vec_df.reset_index(inplace=True, drop=True)\n",
    "# doc2vec_df.head()\n",
    "# doc2vec_df.shape\n",
    "# doc2vec_df = doc2vec_df[doc2vec_df.similarity > 0.5]\n",
    "# doc2vec_df.shape\n",
    "# submission_df = doc2vec_df[['daltix_id_1', 'daltix_id_2']]"
   ]
  },
  {
   "cell_type": "code",
   "execution_count": 1057,
   "metadata": {},
   "outputs": [],
   "source": [
    "df_val = pd.read_csv(\"data/y_true.csv\")\n",
    "df_val.columns = ['daltix_id_1', 'daltix_id_2']"
   ]
  },
  {
   "cell_type": "code",
   "execution_count": 1058,
   "metadata": {},
   "outputs": [
    {
     "data": {
      "text/plain": [
       "(59064, 63221)"
      ]
     },
     "execution_count": 1058,
     "metadata": {},
     "output_type": "execute_result"
    }
   ],
   "source": [
    "len_validation = len(df_val)\n",
    "len_submission = len(submission_df)\n",
    "len_validation, len_submission"
   ]
  },
  {
   "cell_type": "code",
   "execution_count": 1059,
   "metadata": {},
   "outputs": [],
   "source": [
    "s1=pd.concat([submission_df,df_val])\n",
    "df_val_ = df_val[['daltix_id_2', 'daltix_id_1']]\n",
    "df_val_.columns = ['daltix_id_1', 'daltix_id_2']\n",
    "s2=pd.concat([submission_df,df_val_])"
   ]
  },
  {
   "cell_type": "code",
   "execution_count": 1060,
   "metadata": {},
   "outputs": [
    {
     "name": "stdout",
     "output_type": "stream",
     "text": [
      "36720\n"
     ]
    }
   ],
   "source": [
    "tp = len(s1[s1.duplicated()]) + len(s2[s2.duplicated()])\n",
    "print(tp)\n",
    "# 36733"
   ]
  },
  {
   "cell_type": "code",
   "execution_count": 1061,
   "metadata": {},
   "outputs": [],
   "source": [
    "fp = len(submission_df) - tp"
   ]
  },
  {
   "cell_type": "code",
   "execution_count": 1062,
   "metadata": {},
   "outputs": [],
   "source": [
    "recall = tp/len_validation\n",
    "precision = tp/len_submission\n",
    "fpr = fp/len_submission\n",
    "\n",
    "f1 = 2/((1/recall) + (1/precision))"
   ]
  },
  {
   "cell_type": "code",
   "execution_count": 1063,
   "metadata": {},
   "outputs": [
    {
     "data": {
      "text/plain": [
       "(0.6216984965461194,\n",
       " 0.5808196643520349,\n",
       " 0.4191803356479651,\n",
       " 0.6005642556323343)"
      ]
     },
     "execution_count": 1063,
     "metadata": {},
     "output_type": "execute_result"
    }
   ],
   "source": [
    "recall, precision, fpr, f1"
   ]
  },
  {
   "cell_type": "code",
   "execution_count": null,
   "metadata": {},
   "outputs": [],
   "source": []
  },
  {
   "cell_type": "code",
   "execution_count": null,
   "metadata": {},
   "outputs": [],
   "source": []
  },
  {
   "cell_type": "code",
   "execution_count": 1041,
   "metadata": {},
   "outputs": [
    {
     "data": {
      "text/plain": [
       "[(0.26, 0.600252988941935),\n",
       " (0.261, 0.6002644552548239),\n",
       " (0.262, 0.600248171368861),\n",
       " (0.263, 0.6002351365914992),\n",
       " (0.264, 0.6002923236463701),\n",
       " (0.265, 0.6003250385881238),\n",
       " (0.266, 0.6003822842299587),\n",
       " (0.267, 0.6003741616084046),\n",
       " (0.268, 0.6003725672827099),\n",
       " (0.269, 0.6004167517875384),\n",
       " (0.27, 0.6004380731320594),\n",
       " (0.271, 0.6004626488691259),\n",
       " (0.272, 0.600498671571633),\n",
       " (0.273, 0.600506908674679),\n",
       " (0.274, 0.6005642556323343),\n",
       " (0.275, 0.6004923409092768),\n",
       " (0.276, 0.6004564155835658),\n",
       " (0.277, 0.6004744764397906),\n",
       " (0.278, 0.6004499897729596),\n",
       " (0.279, 0.6003927665493822),\n",
       " (0.28, 0.600373177079071)]"
      ]
     },
     "execution_count": 1041,
     "metadata": {},
     "output_type": "execute_result"
    }
   ],
   "source": [
    "## To find out best threshold..  \n",
    "    \n",
    "tfidf_df = pd.read_csv(\"tfidf_df_ngrams.csv\")\n",
    "tfidf_df.sort_values(by='similarity', ascending=False, inplace=True)\n",
    "tfidf_df.reset_index(inplace=True, drop=True)\n",
    "tfidf_m = pd.DataFrame(np.sort(tfidf_df.iloc[:, :2])).duplicated()\n",
    "tfidf_df = tfidf_df[~tfidf_m]\n",
    "tfidf_df.reset_index(inplace=True, drop=True)\n",
    "\n",
    "results = []\n",
    "for i in np.arange(0.26, 0.28, 0.001):\n",
    "    \n",
    "    tfidf_df_ = tfidf_df[tfidf_df.similarity > i]\n",
    "    submission_df = tfidf_df_[['daltix_id_1', 'daltix_id_2']]\n",
    "    df_val = pd.read_csv(\"data/y_true.csv\")\n",
    "    df_val.columns = ['daltix_id_1', 'daltix_id_2']\n",
    "    len_validation = len(df_val)\n",
    "    len_submission = len(submission_df)\n",
    "\n",
    "    s1=pd.concat([submission_df,df_val])\n",
    "    df_val_ = df_val[['daltix_id_2', 'daltix_id_1']]\n",
    "    df_val_.columns = ['daltix_id_1', 'daltix_id_2']\n",
    "    s2=pd.concat([submission_df,df_val_])\n",
    "    tp = len(s1[s1.duplicated()]) + len(s2[s2.duplicated()])\n",
    "    fp = len(submission_df) - tp\n",
    "    recall = tp/len_validation\n",
    "    precision = tp/len_submission\n",
    "    fpr = fp/len_submission\n",
    "\n",
    "    f1 = 2/((1/recall) + (1/precision))\n",
    "    results.append((i,f1))\n",
    "results"
   ]
  },
  {
   "cell_type": "code",
   "execution_count": null,
   "metadata": {},
   "outputs": [],
   "source": []
  }
 ],
 "metadata": {
  "kernelspec": {
   "display_name": "nongpu",
   "language": "python",
   "name": "nongpu"
  },
  "language_info": {
   "codemirror_mode": {
    "name": "ipython",
    "version": 3
   },
   "file_extension": ".py",
   "mimetype": "text/x-python",
   "name": "python",
   "nbconvert_exporter": "python",
   "pygments_lexer": "ipython3",
   "version": "3.6.7"
  }
 },
 "nbformat": 4,
 "nbformat_minor": 2
}
