{
 "cells": [
  {
   "cell_type": "code",
   "execution_count": 1,
   "metadata": {},
   "outputs": [],
   "source": [
    "import pandas as pd\n",
    "import numpy as np\n",
    "from tqdm import tqdm\n",
    "import itertools"
   ]
  },
  {
   "cell_type": "code",
   "execution_count": 2,
   "metadata": {},
   "outputs": [],
   "source": [
    "from IPython.core.interactiveshell import InteractiveShell\n",
    "InteractiveShell.ast_node_interactivity = \"all\""
   ]
  },
  {
   "cell_type": "code",
   "execution_count": 3,
   "metadata": {},
   "outputs": [
    {
     "data": {
      "text/html": [
       "<div>\n",
       "<style scoped>\n",
       "    .dataframe tbody tr th:only-of-type {\n",
       "        vertical-align: middle;\n",
       "    }\n",
       "\n",
       "    .dataframe tbody tr th {\n",
       "        vertical-align: top;\n",
       "    }\n",
       "\n",
       "    .dataframe thead th {\n",
       "        text-align: right;\n",
       "    }\n",
       "</style>\n",
       "<table border=\"1\" class=\"dataframe\">\n",
       "  <thead>\n",
       "    <tr style=\"text-align: right;\">\n",
       "      <th></th>\n",
       "      <th>daltix_id_1</th>\n",
       "      <th>daltix_id_2</th>\n",
       "      <th>similarity</th>\n",
       "    </tr>\n",
       "  </thead>\n",
       "  <tbody>\n",
       "    <tr>\n",
       "      <th>0</th>\n",
       "      <td>0e5e84ecb4f04a43493a4767cc7e8f584e8880bf9c4fe5...</td>\n",
       "      <td>522d820fda70dce221cdea44aa23351b7259ddd8de476a...</td>\n",
       "      <td>1.0</td>\n",
       "    </tr>\n",
       "    <tr>\n",
       "      <th>1</th>\n",
       "      <td>195d2aa5792081cea50b4dbd3bc7a0e6834f7119e98c5c...</td>\n",
       "      <td>eeb658eb1a62021cc2c2827e207237879d5d191e268677...</td>\n",
       "      <td>1.0</td>\n",
       "    </tr>\n",
       "    <tr>\n",
       "      <th>2</th>\n",
       "      <td>63faa9d35d8403251e8a77a391fdcc3f607af7ab0f6199...</td>\n",
       "      <td>544c426b048e836f7e280406d6424c83374d55545c3402...</td>\n",
       "      <td>1.0</td>\n",
       "    </tr>\n",
       "    <tr>\n",
       "      <th>3</th>\n",
       "      <td>a4f457caf2834a80efefa0c8091067227e7733cb2af5a5...</td>\n",
       "      <td>9f157fc8287b7ce2e0414443e8581a4c37d8d5ccc48b0b...</td>\n",
       "      <td>1.0</td>\n",
       "    </tr>\n",
       "    <tr>\n",
       "      <th>4</th>\n",
       "      <td>6a850891f932161dee5975b11412d7f4a24b52ee596100...</td>\n",
       "      <td>2cabc5a8d37176e0587a8870b0daf7a311709df2fc71df...</td>\n",
       "      <td>1.0</td>\n",
       "    </tr>\n",
       "  </tbody>\n",
       "</table>\n",
       "</div>"
      ],
      "text/plain": [
       "                                         daltix_id_1  \\\n",
       "0  0e5e84ecb4f04a43493a4767cc7e8f584e8880bf9c4fe5...   \n",
       "1  195d2aa5792081cea50b4dbd3bc7a0e6834f7119e98c5c...   \n",
       "2  63faa9d35d8403251e8a77a391fdcc3f607af7ab0f6199...   \n",
       "3  a4f457caf2834a80efefa0c8091067227e7733cb2af5a5...   \n",
       "4  6a850891f932161dee5975b11412d7f4a24b52ee596100...   \n",
       "\n",
       "                                         daltix_id_2  similarity  \n",
       "0  522d820fda70dce221cdea44aa23351b7259ddd8de476a...         1.0  \n",
       "1  eeb658eb1a62021cc2c2827e207237879d5d191e268677...         1.0  \n",
       "2  544c426b048e836f7e280406d6424c83374d55545c3402...         1.0  \n",
       "3  9f157fc8287b7ce2e0414443e8581a4c37d8d5ccc48b0b...         1.0  \n",
       "4  2cabc5a8d37176e0587a8870b0daf7a311709df2fc71df...         1.0  "
      ]
     },
     "execution_count": 3,
     "metadata": {},
     "output_type": "execute_result"
    },
    {
     "data": {
      "text/plain": [
       "(64840, 3)"
      ]
     },
     "execution_count": 3,
     "metadata": {},
     "output_type": "execute_result"
    },
    {
     "data": {
      "text/plain": [
       "(63221, 3)"
      ]
     },
     "execution_count": 3,
     "metadata": {},
     "output_type": "execute_result"
    },
    {
     "data": {
      "text/plain": [
       "count    63221.000000\n",
       "mean         0.819840\n",
       "std          0.187582\n",
       "min          0.274244\n",
       "25%          0.723082\n",
       "50%          0.877739\n",
       "75%          0.989859\n",
       "max          1.000000\n",
       "Name: similarity, dtype: float64"
      ]
     },
     "execution_count": 3,
     "metadata": {},
     "output_type": "execute_result"
    }
   ],
   "source": [
    "## for testing tf_idf results..\n",
    "\n",
    "tfidf_df = pd.read_csv(\"tfidf_df_ngrams.csv\")\n",
    "tfidf_df.sort_values(by='similarity', ascending=False, inplace=True)\n",
    "tfidf_df.reset_index(inplace=True, drop=True)\n",
    "tfidf_m = pd.DataFrame(np.sort(tfidf_df.iloc[:, :2])).duplicated()\n",
    "tfidf_df = tfidf_df[~tfidf_m]\n",
    "tfidf_df.reset_index(inplace=True, drop=True)\n",
    "tfidf_df.head()\n",
    "tfidf_df.shape\n",
    "tfidf_df = tfidf_df[tfidf_df.similarity > 0.274] # best threshold - 0.274 - method described at the end\n",
    "tfidf_df.shape\n",
    "tfidf_df.similarity.describe()\n",
    "submission_df = tfidf_df[['daltix_id_1', 'daltix_id_2']]"
   ]
  },
  {
   "cell_type": "code",
   "execution_count": 1056,
   "metadata": {},
   "outputs": [],
   "source": [
    "## for testing doc2vec results.. Which is not a good solution..\n",
    "\n",
    "# doc2vec_df = pd.read_csv(\"doc2vec_df.csv\")\n",
    "# doc2vec_df.sort_values(by='similarity', ascending=False, inplace=True)\n",
    "# doc2vec_df.reset_index(inplace=True, drop=True)\n",
    "# doc2vec_m = pd.DataFrame(np.sort(doc2vec_df.iloc[:, :2])).duplicated()\n",
    "# doc2vec_df = doc2vec_df[~doc2vec_m]\n",
    "# doc2vec_df.reset_index(inplace=True, drop=True)\n",
    "# doc2vec_df.head()\n",
    "# doc2vec_df.shape\n",
    "# doc2vec_df = doc2vec_df[doc2vec_df.similarity > 0.5]\n",
    "# doc2vec_df.shape\n",
    "# submission_df = doc2vec_df[['daltix_id_1', 'daltix_id_2']]"
   ]
  },
  {
   "cell_type": "code",
   "execution_count": 31,
   "metadata": {},
   "outputs": [],
   "source": [
    "## for testing docsim results..\n",
    "\n",
    "# docsim_df = pd.read_csv(\"docsim_df.csv\")\n",
    "# docsim_df.sort_values(by='similarity', ascending=False, inplace=True)\n",
    "# docsim_df.reset_index(inplace=True, drop=True)\n",
    "# docsim_m = pd.DataFrame(np.sort(docsim_df.iloc[:, :2])).duplicated()\n",
    "# docsim_df = docsim_df[~docsim_m]\n",
    "# docsim_df.reset_index(inplace=True, drop=True)\n",
    "# docsim_df.head()\n",
    "# docsim_df.shape\n",
    "# docsim_df = docsim_df[docsim_df.similarity > 0.7]\n",
    "# docsim_df.shape\n",
    "# submission_df = docsim_df[['daltix_id_1', 'daltix_id_2']]"
   ]
  },
  {
   "cell_type": "code",
   "execution_count": 4,
   "metadata": {},
   "outputs": [],
   "source": [
    "df_val = pd.read_csv(\"data/y_true.csv\")\n",
    "df_val.columns = ['daltix_id_1', 'daltix_id_2']"
   ]
  },
  {
   "cell_type": "code",
   "execution_count": 5,
   "metadata": {},
   "outputs": [
    {
     "data": {
      "text/plain": [
       "(59064, 63221)"
      ]
     },
     "execution_count": 5,
     "metadata": {},
     "output_type": "execute_result"
    }
   ],
   "source": [
    "len_validation = len(df_val)\n",
    "len_submission = len(submission_df)\n",
    "len_validation, len_submission"
   ]
  },
  {
   "cell_type": "code",
   "execution_count": 6,
   "metadata": {},
   "outputs": [],
   "source": [
    "s1=pd.concat([submission_df,df_val])\n",
    "df_val_ = df_val[['daltix_id_2', 'daltix_id_1']]\n",
    "df_val_.columns = ['daltix_id_1', 'daltix_id_2']\n",
    "s2=pd.concat([submission_df,df_val_])"
   ]
  },
  {
   "cell_type": "code",
   "execution_count": 7,
   "metadata": {},
   "outputs": [
    {
     "name": "stdout",
     "output_type": "stream",
     "text": [
      "36720\n"
     ]
    }
   ],
   "source": [
    "tp = len(s1[s1.duplicated()]) + len(s2[s2.duplicated()])\n",
    "print(tp)\n",
    "# 36733"
   ]
  },
  {
   "cell_type": "code",
   "execution_count": 8,
   "metadata": {},
   "outputs": [],
   "source": [
    "fp = len(submission_df) - tp"
   ]
  },
  {
   "cell_type": "code",
   "execution_count": 9,
   "metadata": {},
   "outputs": [],
   "source": [
    "recall = tp/len_validation\n",
    "precision = tp/len_submission\n",
    "fpr = fp/len_submission\n",
    "\n",
    "f1 = 2/((1/recall) + (1/precision))"
   ]
  },
  {
   "cell_type": "code",
   "execution_count": 10,
   "metadata": {},
   "outputs": [
    {
     "data": {
      "text/plain": [
       "(0.6216984965461194,\n",
       " 0.5808196643520349,\n",
       " 0.4191803356479651,\n",
       " 0.6005642556323343)"
      ]
     },
     "execution_count": 10,
     "metadata": {},
     "output_type": "execute_result"
    }
   ],
   "source": [
    "recall, precision, fpr, f1"
   ]
  },
  {
   "cell_type": "code",
   "execution_count": null,
   "metadata": {},
   "outputs": [],
   "source": []
  },
  {
   "cell_type": "markdown",
   "metadata": {},
   "source": [
    "-------------------------------------------------------------------------------------------------------------------"
   ]
  },
  {
   "cell_type": "code",
   "execution_count": 1041,
   "metadata": {},
   "outputs": [
    {
     "data": {
      "text/plain": [
       "[(0.26, 0.600252988941935),\n",
       " (0.261, 0.6002644552548239),\n",
       " (0.262, 0.600248171368861),\n",
       " (0.263, 0.6002351365914992),\n",
       " (0.264, 0.6002923236463701),\n",
       " (0.265, 0.6003250385881238),\n",
       " (0.266, 0.6003822842299587),\n",
       " (0.267, 0.6003741616084046),\n",
       " (0.268, 0.6003725672827099),\n",
       " (0.269, 0.6004167517875384),\n",
       " (0.27, 0.6004380731320594),\n",
       " (0.271, 0.6004626488691259),\n",
       " (0.272, 0.600498671571633),\n",
       " (0.273, 0.600506908674679),\n",
       " (0.274, 0.6005642556323343),\n",
       " (0.275, 0.6004923409092768),\n",
       " (0.276, 0.6004564155835658),\n",
       " (0.277, 0.6004744764397906),\n",
       " (0.278, 0.6004499897729596),\n",
       " (0.279, 0.6003927665493822),\n",
       " (0.28, 0.600373177079071)]"
      ]
     },
     "execution_count": 1041,
     "metadata": {},
     "output_type": "execute_result"
    }
   ],
   "source": [
    "## To find out best threshold..  \n",
    "    \n",
    "tfidf_df = pd.read_csv(\"tfidf_df_ngrams.csv\")\n",
    "tfidf_df.sort_values(by='similarity', ascending=False, inplace=True)\n",
    "tfidf_df.reset_index(inplace=True, drop=True)\n",
    "tfidf_m = pd.DataFrame(np.sort(tfidf_df.iloc[:, :2])).duplicated()\n",
    "tfidf_df = tfidf_df[~tfidf_m]\n",
    "tfidf_df.reset_index(inplace=True, drop=True)\n",
    "\n",
    "results = []\n",
    "for i in np.arange(0.26, 0.28, 0.001):\n",
    "    \n",
    "    tfidf_df_ = tfidf_df[tfidf_df.similarity > i]\n",
    "    submission_df = tfidf_df_[['daltix_id_1', 'daltix_id_2']]\n",
    "    df_val = pd.read_csv(\"data/y_true.csv\")\n",
    "    df_val.columns = ['daltix_id_1', 'daltix_id_2']\n",
    "    len_validation = len(df_val)\n",
    "    len_submission = len(submission_df)\n",
    "\n",
    "    s1=pd.concat([submission_df,df_val])\n",
    "    df_val_ = df_val[['daltix_id_2', 'daltix_id_1']]\n",
    "    df_val_.columns = ['daltix_id_1', 'daltix_id_2']\n",
    "    s2=pd.concat([submission_df,df_val_])\n",
    "    tp = len(s1[s1.duplicated()]) + len(s2[s2.duplicated()])\n",
    "    fp = len(submission_df) - tp\n",
    "    recall = tp/len_validation\n",
    "    precision = tp/len_submission\n",
    "    fpr = fp/len_submission\n",
    "\n",
    "    f1 = 2/((1/recall) + (1/precision))\n",
    "    results.append((i,f1))\n",
    "results"
   ]
  },
  {
   "cell_type": "code",
   "execution_count": null,
   "metadata": {},
   "outputs": [],
   "source": []
  }
 ],
 "metadata": {
  "kernelspec": {
   "display_name": "nongpu",
   "language": "python",
   "name": "nongpu"
  },
  "language_info": {
   "codemirror_mode": {
    "name": "ipython",
    "version": 3
   },
   "file_extension": ".py",
   "mimetype": "text/x-python",
   "name": "python",
   "nbconvert_exporter": "python",
   "pygments_lexer": "ipython3",
   "version": "3.6.7"
  }
 },
 "nbformat": 4,
 "nbformat_minor": 2
}
