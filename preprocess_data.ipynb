{
 "cells": [
  {
   "cell_type": "code",
   "execution_count": null,
   "metadata": {},
   "outputs": [],
   "source": [
    "import pandas as pd\n",
    "from nltk.corpus import stopwords\n",
    "import re\n",
    "from tqdm import tqdm\n",
    "from gensim.models.doc2vec import Doc2Vec, TaggedDocument\n",
    "from sklearn import utils\n",
    "from stop_words import get_stop_words"
   ]
  },
  {
   "cell_type": "code",
   "execution_count": null,
   "metadata": {},
   "outputs": [],
   "source": [
    "data_df = pd.read_json('data/hackathon_dataset.json', lines=True)\n",
    "# data_df.shape\n",
    "# data_df.head(10)"
   ]
  },
  {
   "cell_type": "code",
   "execution_count": null,
   "metadata": {},
   "outputs": [],
   "source": [
    "REPLACE_BY_SPACE_RE = re.compile('[/(){}\\[\\]\\|@;&=-]')\n",
    "BAD_SYMBOLS_RE = re.compile('[^0-9a-z .,]')\n",
    "STOPWORDS = set(get_stop_words('dutch'))\n",
    "\n",
    "def clean_text(text, url=False):\n",
    "    try:\n",
    "        text = text.lower() # lowercase text\n",
    "        text = text.replace('\\n', ' ') \n",
    "\n",
    "        if url:\n",
    "            text = text.split('?', 1)[0]\n",
    "\n",
    "        text = REPLACE_BY_SPACE_RE.sub(' ', text) # replace REPLACE_BY_SPACE_RE symbols by space in text\n",
    "        text = BAD_SYMBOLS_RE.sub('', text) # delete symbols which are not in BAD_SYMBOLS_RE from text\n",
    "\n",
    "        text = ' '.join(word for word in text.split() if word not in STOPWORDS) # delete stopwors from text\n",
    "        text = ' '.join(word.rstrip(\",.\") for word in text.split())\n",
    "        text = ' '.join(word for word in text.split() if 1 < len(word) )\n",
    "        text = re.sub(r'\\b[a-zA-Z]\\b', '', text) # remove one words \n",
    "        text = re.sub(r'http\\S+', '', text) # remove links\n",
    "        text = re.sub(' +', ' ', text) # remove exess spaces\n",
    "        text = text.strip()\n",
    "        if url:\n",
    "            text = text.rsplit(' ', 1)[0]\n",
    "            spl = text.split(' ', 1)\n",
    "            if len(spl) > 1:\n",
    "                text = spl[1]\n",
    "            else:\n",
    "                text = ''\n",
    "        text = re.sub(r'\\d{5,}', '', text) # digits len > 5 filterd out\n",
    "        text = text.strip()\n",
    "    except:\n",
    "        print(text)\n",
    "    return text"
   ]
  },
  {
   "cell_type": "code",
   "execution_count": null,
   "metadata": {},
   "outputs": [],
   "source": [
    "def createDF(df):\n",
    "    df_ = df[['DALTIX_ID','DESCRIPTION','DISPLAY_URL','NAME','SPECIFICATIONS']].astype(str)\n",
    "    df_['DESCRIPTION'] = df_['DESCRIPTION'].apply(clean_text)\n",
    "    df_['DISPLAY_URL'] = df_['DISPLAY_URL'].apply(clean_text, url=True)\n",
    "    df_['NAME'] = df_['NAME'].apply(clean_text)\n",
    "    df_['SPECIFICATIONS'] = df_['SPECIFICATIONS'].apply(clean_text)\n",
    "    return df_"
   ]
  },
  {
   "cell_type": "code",
   "execution_count": null,
   "metadata": {},
   "outputs": [],
   "source": [
    "df = createDF(data_df)\n",
    "df['SPECIFICATIONS'].replace('none', '', inplace=True)\n",
    "df['DESCRIPTION'].replace('none', '', inplace=True)"
   ]
  },
  {
   "cell_type": "code",
   "execution_count": null,
   "metadata": {},
   "outputs": [],
   "source": [
    "df[\"text\"] = df['DESCRIPTION'].map(str) + ' ' + df['DISPLAY_URL'].map(str)+ ' ' + df['NAME'].map(str)+ ' ' + df['SPECIFICATIONS'].map(str)"
   ]
  },
  {
   "cell_type": "code",
   "execution_count": null,
   "metadata": {},
   "outputs": [],
   "source": [
    "df[[\"DALTIX_ID\",\"text\"]].to_csv(\"dataset_cleaned.csv\", index=False)"
   ]
  }
 ],
 "metadata": {
  "kernelspec": {
   "display_name": "nongpu",
   "language": "python",
   "name": "nongpu"
  },
  "language_info": {
   "codemirror_mode": {
    "name": "ipython",
    "version": 3
   },
   "file_extension": ".py",
   "mimetype": "text/x-python",
   "name": "python",
   "nbconvert_exporter": "python",
   "pygments_lexer": "ipython3",
   "version": "3.6.7"
  }
 },
 "nbformat": 4,
 "nbformat_minor": 2
}
